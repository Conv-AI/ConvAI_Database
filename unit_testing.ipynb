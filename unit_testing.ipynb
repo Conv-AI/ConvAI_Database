{
 "cells": [
  {
   "cell_type": "code",
   "execution_count": 12,
   "id": "5d2ac7fd-61d7-4622-af72-8f4edd3d24b2",
   "metadata": {},
   "outputs": [],
   "source": [
    "#importing the utilities\n",
    "from db_utilities import connect_to_database, execute_and_return_results"
   ]
  },
  {
   "cell_type": "code",
   "execution_count": 2,
   "id": "e46e1b6a-7771-43c5-b92b-7ca3eac09108",
   "metadata": {},
   "outputs": [],
   "source": [
    "def register_user(user_id : str, username : str, email : str) -> int:\n",
    "    '''\n",
    "    Function to register the new user in the database\n",
    "    Arguments:\n",
    "        user_id   : the unique user_id created for the user\n",
    "        username  : the username of the user\n",
    "        email     : user's email\n",
    "    Returns :\n",
    "        int(0/-1) : whether the query execution was successful or not ( 0 : successful ; -1 : error)\n",
    "    '''\n",
    "    INSERT_USER_DETAILS = \"\"\" INSERT INTO user_details( user_id, username, email) VALUES ('{}','{}','{}');\"\"\"\n",
    "    r = -1\n",
    "    with connect_to_database(1) as conn :\n",
    "        try:\n",
    "            query = INSERT_USER_DETAILS.format(user_id,username,email)\n",
    "            cursor_obj = conn.cursor()\n",
    "            cursor_obj.execute(query)\n",
    "            cursor_obj.close()\n",
    "            #print(\"Query executed successfully\")\n",
    "            r = 0\n",
    "        except Exception as e:\n",
    "            #print(query)\n",
    "            print(\"Error in executing the query for register_user : \",e)\n",
    "            \n",
    "    return r"
   ]
  },
  {
   "cell_type": "code",
   "execution_count": 3,
   "id": "9337393f-2409-4849-ab68-d5dcad02bb97",
   "metadata": {},
   "outputs": [
    {
     "name": "stdout",
     "output_type": "stream",
     "text": [
      "Connected to the database.\n",
      "0\n"
     ]
    }
   ],
   "source": [
    "print(register_user('Deepankar_testing','deepankar_testing','deepankar_testing1@convai.com'))"
   ]
  },
  {
   "cell_type": "code",
   "execution_count": 4,
   "id": "ae80502e-23cc-467f-9541-ec6620817514",
   "metadata": {},
   "outputs": [],
   "source": [
    "def register_api_key(user_id : str, email : str, api_key : str) -> int:\n",
    "    '''\n",
    "    Function to register the api key for the user in the database\n",
    "    Arguments:\n",
    "        user_id   : the unique user_id created for the user\n",
    "        api_key   : the user's apikey\n",
    "        email     : user's email\n",
    "    Returns :\n",
    "        int(0/-1) : whether the query execution was successful or not ( 0 : successful ; -1 : error)\n",
    "    '''\n",
    "    INSERT_NEW_API = \"\"\" INSERT INTO api_map( user_id, email, api_key) VALUES ('{}','{}','{}'); \"\"\"\n",
    "    r = -1\n",
    "    with connect_to_database(1) as conn :\n",
    "        try:\n",
    "            query = INSERT_NEW_API.format(user_id,email, api_key)\n",
    "            cursor_obj = conn.cursor()\n",
    "            cursor_obj.execute(query)\n",
    "            cursor_obj.close()\n",
    "            #print(\"Query executed successfully\")\n",
    "            r = 0\n",
    "        except Exception as e:\n",
    "            #print(query)\n",
    "            print(\"Error in executing the query for register_api_key : \",e)\n",
    "            \n",
    "    return r"
   ]
  },
  {
   "cell_type": "code",
   "execution_count": 5,
   "id": "bd6c6601-ccb5-40bc-903d-4165b4992b0d",
   "metadata": {},
   "outputs": [
    {
     "name": "stdout",
     "output_type": "stream",
     "text": [
      "Connected to the database.\n",
      "0\n"
     ]
    }
   ],
   "source": [
    "print(register_api_key('Deepankar_testing','deepankar_testing1@convai.com','deepankar_api_key'))"
   ]
  },
  {
   "cell_type": "code",
   "execution_count": 6,
   "id": "9a34626f-b1f5-4f52-bc37-621b7b334e6c",
   "metadata": {},
   "outputs": [],
   "source": [
    "def log_user_activity(api_key : str, service_accessed : str, source : str, user_input : str) -> int:\n",
    "    '''\n",
    "    Function to log users' activities in the database\n",
    "    Arguments:\n",
    "        api_key              : the user's apikey\n",
    "        service_accessed     : which service the user accessed\n",
    "        source               : from where the request originated => web gui or curl request\n",
    "        user_input           : the input of the user\n",
    "    Returns :\n",
    "        int(0/-1)            : whether the query execution was successful or not ( 0 : successful ; -1 : error)\n",
    "    '''\n",
    "    INSERT_USER_ACTIVITY = \"\"\" INSERT INTO user_activity( api_key, service_accessed, source, input) VALUES ('{}','{}','{}','{}'); \"\"\"\n",
    "    r = -1\n",
    "    with connect_to_database(1) as conn:\n",
    "        try:\n",
    "            query = INSERT_USER_ACTIVITY.format(api_key, service_accessed, source, user_input)\n",
    "            cursor_obj = conn.cursor()\n",
    "            cursor_obj.execute(query)\n",
    "            cursor_obj.close()\n",
    "            #print(\"Query executed successfully\")\n",
    "            r = 0\n",
    "        except Exception as e:\n",
    "            #print(query)\n",
    "            print(\"Error in executing the query for log_user_activity : \",e)\n",
    "            \n",
    "    return r"
   ]
  },
  {
   "cell_type": "code",
   "execution_count": 7,
   "id": "18aad70e-fd16-47e2-9f6a-77c76ded3a64",
   "metadata": {},
   "outputs": [
    {
     "name": "stdout",
     "output_type": "stream",
     "text": [
      "Connected to the database.\n",
      "0\n"
     ]
    }
   ],
   "source": [
    "print(log_user_activity('deepankar_api_key','testing','jupyter lab','unit testing'))"
   ]
  },
  {
   "cell_type": "code",
   "execution_count": 8,
   "id": "758d93b1-465e-41dd-85a1-25fb35c916ac",
   "metadata": {},
   "outputs": [
    {
     "name": "stdout",
     "output_type": "stream",
     "text": [
      "Connected to the database.\n",
      "Error in executing the query for log_user_activity :  insert or update on table \"user_activity\" violates foreign key constraint \"user_activity_api_key_fkey\"\n",
      "DETAIL:  Key (api_key)=(deepankar_wrong_api_key) is not present in table \"api_map\".\n",
      "\n",
      "-1\n"
     ]
    }
   ],
   "source": [
    "print(log_user_activity('deepankar_wrong_api_key','testing','jupyter lab','unit testing'))"
   ]
  },
  {
   "cell_type": "code",
   "execution_count": 9,
   "id": "cabf9a26-2769-4021-86f0-cc27eb512d04",
   "metadata": {},
   "outputs": [],
   "source": [
    "def get_api_key_info(email : str) -> str:\n",
    "    '''\n",
    "    Function to retrieve the user's api_key the database\n",
    "    Arguments:\n",
    "        email   : the user's email id\n",
    "    Returns :\n",
    "        str     : returns the latest api_key registered against the email id;\n",
    "                  will return -1 in-case no api_key found in the database\n",
    "    '''\n",
    "    GET_API_KEY_DETAILS = \"\"\" SELECT api_key\n",
    "                          FROM (SELECT api_key, generation_timestamp AS gt FROM api_map WHERE email = '{}' ORDER BY gt DESC) AS S\n",
    "                          LIMIT 1; \"\"\"\n",
    "    api_key = \"-1\"\n",
    "    with connect_to_database(1) as conn:\n",
    "        try :\n",
    "            query = GET_API_KEY_DETAILS.format(email)\n",
    "            query_results = execute_and_return_results(query, conn)\n",
    "        \n",
    "            if len(query_results) > 0:\n",
    "                api_key = str(query_results[0]['api_key'])\n",
    "        except Exception as e:\n",
    "            #print(query)\n",
    "            print(\"Error in executing the query for get_api_key_info : \",e)\n",
    "    \n",
    "    return api_key"
   ]
  },
  {
   "cell_type": "code",
   "execution_count": 10,
   "id": "ca9be733-983c-4977-8547-a1bb7ef630ae",
   "metadata": {},
   "outputs": [
    {
     "name": "stdout",
     "output_type": "stream",
     "text": [
      "Connected to the database.\n",
      "deepankar_api_key\n"
     ]
    }
   ],
   "source": [
    "print(get_api_key_info('deepankar_testing1@convai.com'))"
   ]
  },
  {
   "cell_type": "code",
   "execution_count": 13,
   "id": "fb8a6c91-86ca-4434-879f-08f4c75e37dc",
   "metadata": {},
   "outputs": [
    {
     "name": "stdout",
     "output_type": "stream",
     "text": [
      "Connected to the database.\n",
      "-1\n"
     ]
    }
   ],
   "source": [
    "print(get_api_key_info('deepankar_testing_wrong1@convai.com'))"
   ]
  },
  {
   "cell_type": "code",
   "execution_count": 14,
   "id": "5465e152-b0ae-4897-98c6-0a7850465a20",
   "metadata": {},
   "outputs": [],
   "source": [
    "def user_login(email : str) -> dict:\n",
    "    '''\n",
    "    Function to retrieve the user's api_key from the database\n",
    "    Arguments:\n",
    "        email   : the user's email id\n",
    "    Returns :\n",
    "        str     : returns the latest api_key registered against the email id;\n",
    "                  will return -1 in-case no api_key found in the database\n",
    "    IMPNOTE : This function performs the same functionality as the get_api_key_info(). \n",
    "              Only difference is the return type.\n",
    "              Havent removed it in the current build as not sure whether which function is being used in the middleman script.\n",
    "              Will remove in the future iteration.\n",
    "    '''\n",
    "    GET_API_KEY_DETAILS = \"\"\" SELECT api_key\n",
    "                          FROM (SELECT api_key, generation_timestamp AS gt FROM api_map WHERE email = '{}' ORDER BY gt DESC) AS S\n",
    "                          LIMIT 1; \"\"\"\n",
    "    api_key = {\"api_key\":\"-1\"}\n",
    "    with connect_to_database(1) as conn:\n",
    "        try :\n",
    "            query = GET_API_KEY_DETAILS.format(email)\n",
    "            query_results = execute_and_return_results(query, conn)\n",
    "        \n",
    "            if len(query_results) > 0:\n",
    "                api_key = query_results[0]\n",
    "        except Exception as e:\n",
    "            #print(query)\n",
    "            print(\"Error in executing the query for user_login : \",e)\n",
    "    \n",
    "    return api_key"
   ]
  },
  {
   "cell_type": "code",
   "execution_count": 15,
   "id": "d11c4346-8e36-4d93-abca-66571b9b38b2",
   "metadata": {},
   "outputs": [
    {
     "name": "stdout",
     "output_type": "stream",
     "text": [
      "Connected to the database.\n",
      "{'api_key': 'deepankar_api_key'}\n"
     ]
    }
   ],
   "source": [
    "print(user_login('deepankar_testing1@convai.com'))"
   ]
  },
  {
   "cell_type": "code",
   "execution_count": 17,
   "id": "972fdfae-ad30-44ce-adb8-5f5f34f587d5",
   "metadata": {},
   "outputs": [
    {
     "name": "stdout",
     "output_type": "stream",
     "text": [
      "Connected to the database.\n",
      "{'api_key': '-1'}\n"
     ]
    }
   ],
   "source": [
    "print(user_login('wrong_deepankar_testing1@convai.com'))"
   ]
  },
  {
   "cell_type": "code",
   "execution_count": 18,
   "id": "dc8d5e17-6853-469d-ab7f-12899e82fae6",
   "metadata": {},
   "outputs": [],
   "source": [
    "def check_apiKey_existence(api_key : str) -> int:\n",
    "    '''\n",
    "    Function to check if the provided api_key exists in the database\n",
    "    Arguments:\n",
    "        api_key   : the api_key to be checked\n",
    "    Returns :\n",
    "        int     : returns 0 in-case the api_key is found in the database else will return -1\n",
    "    '''\n",
    "    r = -1 \n",
    "    CHECK_API_KEY_EXISTENCE = \"\"\" SELECT * FROM api_map WHERE api_key = '{}';\"\"\"\n",
    "    with connect_to_database(1) as conn:\n",
    "        try :\n",
    "            query = CHECK_API_KEY_EXISTENCE.format(api_key)\n",
    "            query_results = execute_and_return_results(query, conn)\n",
    "        \n",
    "            if len(query_results) > 0:\n",
    "                r = 0\n",
    "        except Exception as e:\n",
    "            #print(query)\n",
    "            print(\"Error in executing the query for check_apiKey_existence : \",e)\n",
    "    \n",
    "    return r"
   ]
  },
  {
   "cell_type": "code",
   "execution_count": 19,
   "id": "e3666bb6-e7d8-4e8b-a407-9c1639a2744c",
   "metadata": {},
   "outputs": [
    {
     "name": "stdout",
     "output_type": "stream",
     "text": [
      "Connected to the database.\n",
      "0\n"
     ]
    }
   ],
   "source": [
    "print(check_apiKey_existence('deepankar_api_key'))"
   ]
  },
  {
   "cell_type": "code",
   "execution_count": 20,
   "id": "026259b4-7b2c-40c3-b12e-abf561e83088",
   "metadata": {},
   "outputs": [
    {
     "name": "stdout",
     "output_type": "stream",
     "text": [
      "Connected to the database.\n",
      "-1\n"
     ]
    }
   ],
   "source": [
    "print(check_apiKey_existence('deepankar_wrong_api_key'))"
   ]
  },
  {
   "cell_type": "code",
   "execution_count": 21,
   "id": "514214f8-bbeb-43b6-a859-0cefdb2c48ef",
   "metadata": {},
   "outputs": [],
   "source": [
    "def get_all_personal_characters(user_id : str) -> list:\n",
    "    '''\n",
    "    Function to retrieve the characters owned by the user from the database\n",
    "    Arguments:\n",
    "        user_id   : the user_id to be checked against\n",
    "    Returns :\n",
    "        list     : returns list of dictionaries for all the characters owned by the user_id\n",
    "                   if no results are found, will return empty list\n",
    "    '''\n",
    "    data = []\n",
    "    RETRIEVE_PERSONAL_CHARACTERS = \"\"\" SELECT * FROM all_characters WHERE user_id='{}' ; \"\"\"\n",
    "\n",
    "    with connect_to_database(1) as conn:\n",
    "        try :\n",
    "            query = RETRIEVE_PERSONAL_CHARACTERS.format(user_id)\n",
    "            query_results = execute_and_return_results(query, conn)\n",
    "        \n",
    "            if len(query_results) > 0:\n",
    "                data = query_results\n",
    "        except Exception as e:\n",
    "            #print(query)\n",
    "            print(\"Error in executing the query for get_all_personal_characters : \",e)\n",
    "    return data"
   ]
  },
  {
   "cell_type": "code",
   "execution_count": 22,
   "id": "f580b6f9-36dc-4826-bc88-e3d9e8199857",
   "metadata": {},
   "outputs": [
    {
     "name": "stdout",
     "output_type": "stream",
     "text": [
      "Connected to the database.\n",
      "[{'character_name': 'Elon-Bit Musk', 'collection_name': 'ConvAI Curated', 'user_id': 'CAIPURNENDUROCKS2022AR', 'character_id': 'b1dd2afa-b4e4-11ec-bfda-0242ac120003', 'model_type': '2D', 'state_names': ['idle', 'talking'], 'state_links': ['https://lh3.googleusercontent.com/Tfl2fAON_DH9l-y0CTFkuWsvOFP-Z9tWPrZ-eWVaWxdbv7KNTy_XvKMieeLM6jodjAFDvuQT87aLEVR_2O_Hf8JNSpX2v18Gs-zAnFGgPJpys9CFQNyh1e0QQ1Qp-TOFAGCU8b9C=w2400', 'https://lh3.googleusercontent.com/4B1u7xYQbt_YoI1gDL-fcfuYofzDhN7idsyjOv1PX818ix7ZKeffFiF-Ti-KQdsg8Fu1-YIOOr-AbVOxk_PS2NzrmQT12IrCjWxY3ZuN4qX70sS-5u32RqXN8z4kMaegauskxUV5=w2400'], 'listing': 'public', 'voice_type': 'MALE', 'voice_pitch': 0.0, 'blockchain': None, 'contract_address': None, 'mint_address': None, 'owner_address': None, 'timestamp': Timestamp('2022-04-05 13:31:27.124306')}, {'character_name': 'Conrad', 'collection_name': None, 'user_id': 'CAIPURNENDUROCKS2022AR', 'character_id': '7c2c703c-ba98-11ec-98be-0242ac120003', 'model_type': '2D', 'state_names': ['stylewalking', 'stylewalking2'], 'state_links': ['CoterStyleWalk.gif', 'CoterStyleWalk_2.gif'], 'listing': 'public', 'voice_type': None, 'voice_pitch': nan, 'blockchain': None, 'contract_address': 'purnendurocks@gmail.com\\n', 'mint_address': None, 'owner_address': None, 'timestamp': Timestamp('2022-04-12 19:41:02.271060')}]\n"
     ]
    }
   ],
   "source": [
    "print(get_all_personal_characters('CAIPURNENDUROCKS2022AR'))"
   ]
  },
  {
   "cell_type": "code",
   "execution_count": 23,
   "id": "ecc0c3dd-e933-43fc-8a51-cf2ada4bf9f5",
   "metadata": {},
   "outputs": [
    {
     "name": "stdout",
     "output_type": "stream",
     "text": [
      "Connected to the database.\n",
      "[]\n"
     ]
    }
   ],
   "source": [
    "print(get_all_personal_characters('CAIPURNENDUROCKS2022AR_wrong'))"
   ]
  },
  {
   "cell_type": "code",
   "execution_count": 24,
   "id": "45981624-0f53-4f65-ab80-4eb4a1243ac5",
   "metadata": {},
   "outputs": [],
   "source": [
    "def get_character_details(char_id : str) -> dict:\n",
    "    '''\n",
    "    Function to retrieve the characters details from the database\n",
    "    Arguments:\n",
    "        char_id   : the char_id of the character\n",
    "    Returns :\n",
    "        dict     : returns a dict consisting of the character details\n",
    "                   if no results are found, will return {\"status\":-1}\n",
    "    '''\n",
    "    data = {\"status\":-1}\n",
    "    RETRIEVE_CHARACTER_DETAILS = \"\"\" SELECT * FROM all_characters WHERE character_id='{}' ; \"\"\"\n",
    "\n",
    "    with connect_to_database(1) as conn:\n",
    "        try :\n",
    "            query = RETRIEVE_CHARACTER_DETAILS.format(char_id)\n",
    "            query_results = execute_and_return_results(query,conn)\n",
    "        \n",
    "            if len(query_results) > 0:\n",
    "                data = query_results\n",
    "        except Exception as e:\n",
    "            #print(query)\n",
    "            print(\"Error in executing the query for get_character_details : \",e)\n",
    "\n",
    "    return data"
   ]
  },
  {
   "cell_type": "code",
   "execution_count": 25,
   "id": "80b01222-909e-4af4-ad19-ecb5d9c078e3",
   "metadata": {},
   "outputs": [
    {
     "name": "stdout",
     "output_type": "stream",
     "text": [
      "Connected to the database.\n",
      "[{'character_name': 'Elon-Bit Musk', 'collection_name': 'ConvAI Curated', 'user_id': 'CAIPURNENDUROCKS2022AR', 'character_id': 'b1dd2afa-b4e4-11ec-bfda-0242ac120003', 'model_type': '2D', 'state_names': ['idle', 'talking'], 'state_links': ['https://lh3.googleusercontent.com/Tfl2fAON_DH9l-y0CTFkuWsvOFP-Z9tWPrZ-eWVaWxdbv7KNTy_XvKMieeLM6jodjAFDvuQT87aLEVR_2O_Hf8JNSpX2v18Gs-zAnFGgPJpys9CFQNyh1e0QQ1Qp-TOFAGCU8b9C=w2400', 'https://lh3.googleusercontent.com/4B1u7xYQbt_YoI1gDL-fcfuYofzDhN7idsyjOv1PX818ix7ZKeffFiF-Ti-KQdsg8Fu1-YIOOr-AbVOxk_PS2NzrmQT12IrCjWxY3ZuN4qX70sS-5u32RqXN8z4kMaegauskxUV5=w2400'], 'listing': 'public', 'voice_type': 'MALE', 'voice_pitch': 0.0, 'blockchain': None, 'contract_address': None, 'mint_address': None, 'owner_address': None, 'timestamp': Timestamp('2022-04-05 13:31:27.124306')}]\n"
     ]
    }
   ],
   "source": [
    "print(get_character_details('b1dd2afa-b4e4-11ec-bfda-0242ac120003'))"
   ]
  },
  {
   "cell_type": "code",
   "execution_count": 27,
   "id": "ccbd9fa2-be92-4018-ad81-85c2731a55ec",
   "metadata": {},
   "outputs": [
    {
     "name": "stdout",
     "output_type": "stream",
     "text": [
      "Connected to the database.\n",
      "{'status': -1}\n"
     ]
    }
   ],
   "source": [
    "print(get_character_details('b1dd2afa-b4e4-11ec-bfda-0242ac120503'))"
   ]
  },
  {
   "cell_type": "code",
   "execution_count": 28,
   "id": "aab42614-7329-4404-ac19-530f7fa71e44",
   "metadata": {},
   "outputs": [],
   "source": [
    "def get_doc_store_file_link(char_id : str) -> str:\n",
    "    '''\n",
    "    Function to retrieve the doc store file link for a character from the database\n",
    "    Arguments:\n",
    "        char_id   : the char_id of the character\n",
    "    Returns :\n",
    "        str       : the link to the doc store file ;\n",
    "                    incase no results were found, return \"-1\"\n",
    "    '''\n",
    "    RETRIEVE_GET_DOCSTORE_FILE_LINK = \"\"\" SELECT document_store_file_link FROM character_metadata WHERE character_id='{}' AND version = 0 ;\"\"\"\n",
    "    doc_store_file_link = \"-1\"\n",
    "    with connect_to_database(1) as conn:\n",
    "        try:   \n",
    "            query = RETRIEVE_GET_DOCSTORE_FILE_LINK.format(char_id)\n",
    "            query_results = execute_and_return_results(query,conn)\n",
    "\n",
    "            if len(query_results) > 0:\n",
    "                doc_store_file_link = query_results[0][\"document_store_file_link\"]\n",
    "        except Exception as e:\n",
    "            #print(query)\n",
    "            print(\"Error in executing the query for get_doc_store_file_link : \",e)\n",
    "    return doc_store_file_link"
   ]
  },
  {
   "cell_type": "code",
   "execution_count": 29,
   "id": "2bc69211-a4a9-4027-b474-b7a0680e103f",
   "metadata": {},
   "outputs": [
    {
     "name": "stdout",
     "output_type": "stream",
     "text": [
      "Connected to the database.\n",
      "1649409650945467904_docStore_b1dd2afa-b4e4-11ec-bfda-0242ac120003.zip\n"
     ]
    }
   ],
   "source": [
    "print(get_doc_store_file_link('b1dd2afa-b4e4-11ec-bfda-0242ac120003'))"
   ]
  },
  {
   "cell_type": "code",
   "execution_count": 30,
   "id": "fb1f187f-0d41-462d-b369-49a067550c9f",
   "metadata": {},
   "outputs": [
    {
     "name": "stdout",
     "output_type": "stream",
     "text": [
      "Connected to the database.\n",
      "-1\n"
     ]
    }
   ],
   "source": [
    "print(get_doc_store_file_link('b1dd2afa-b4e4-11ec-bfda-0242ac120023'))"
   ]
  },
  {
   "cell_type": "code",
   "execution_count": 31,
   "id": "18a683cc-7795-459e-9083-de140b36a8c2",
   "metadata": {},
   "outputs": [],
   "source": [
    "def get_all_characters_from_collection(collection_name : str) -> list:\n",
    "    '''\n",
    "    Function to retrieve the details of all the characters from a particular collection from the database\n",
    "    Arguments:\n",
    "        collection_name   : the name of the collection\n",
    "    Returns :\n",
    "        list              : list of dictionaries consisting of character details;\n",
    "                            incase no results were found, return empty list\n",
    "    '''\n",
    "    RETRIEVE_GET_ALL_CHARACTERS_FROM_COLLECTION = \"\"\" SELECT * FROM all_characters WHERE collection_name = '{}' ; \"\"\"\n",
    "    data = []\n",
    "    with connect_to_database(1) as conn:\n",
    "        try:   \n",
    "            query = RETRIEVE_GET_ALL_CHARACTERS_FROM_COLLECTION.format(collection_name)\n",
    "            query_results = execute_and_return_results(query,conn)\n",
    "\n",
    "            if len(query_results) > 0:\n",
    "                data = query_results\n",
    "        except Exception as e:\n",
    "            #print(query)\n",
    "            print(\"Error in executing the query for get_all_characters_from_collection : \",e)\n",
    "    return data"
   ]
  },
  {
   "cell_type": "code",
   "execution_count": 32,
   "id": "aeb2c6ab-e40f-4ddf-885f-638f65c31b4c",
   "metadata": {},
   "outputs": [
    {
     "name": "stdout",
     "output_type": "stream",
     "text": [
      "Connected to the database.\n",
      "[{'character_name': 'Cyber Beast #444', 'collection_name': 'Cyber Beast Social Club', 'user_id': 'CAICONTACT2022AR', 'character_id': 'b23b4324-b4e4-11ec-bfda-0242ac120003', 'model_type': '2D', 'state_names': ['idle', 'talking'], 'state_links': ['https://lh3.googleusercontent.com/xuARcuqCY9UsSF3jUzMpgzAxvHIYcpDXMmNgsNv1U6U4EMVgNAIbAcLmWbict4p4rbiH_DNDvYwsxm-CbLEOCCp9lZhKj18yiQbSiSRmJBCRe0_RRrTzv6BGuz7fOtWY-M1_rfMd=w2400', 'https://lh3.googleusercontent.com/w7FR_OgaguSyhPueURUspAbMvUjoZJe3YGhAsHbFjRNobmz4Njh9ecwwo1ggBfNtce8TvtEnPNqJH50lh6TK41kG1igQqv5A7xCvXk5FPcNK-Y2GQkFrCGHKrtmI0LtmlGAKE9Rc=w2400'], 'listing': 'public', 'voice_type': 'MALE', 'voice_pitch': 0.0, 'blockchain': None, 'contract_address': None, 'mint_address': None, 'owner_address': None, 'timestamp': Timestamp('2022-04-05 13:31:27.741241')}]\n"
     ]
    }
   ],
   "source": [
    "print(get_all_characters_from_collection('Cyber Beast Social Club'))"
   ]
  },
  {
   "cell_type": "code",
   "execution_count": 33,
   "id": "7f90de9c-a09e-44b2-b458-d2a45c9151aa",
   "metadata": {},
   "outputs": [
    {
     "name": "stdout",
     "output_type": "stream",
     "text": [
      "Connected to the database.\n",
      "[]\n"
     ]
    }
   ],
   "source": [
    "print(get_all_characters_from_collection('Cyber Beast Social Club01'))"
   ]
  },
  {
   "cell_type": "code",
   "execution_count": 34,
   "id": "edff706e-acc7-44c2-8d07-70e54f85ed69",
   "metadata": {},
   "outputs": [],
   "source": [
    "def get_all_character_collections() -> list:\n",
    "    '''\n",
    "    Function to retrieve the details of all the collections from the database\n",
    "    Arguments: None\n",
    "    Returns :\n",
    "        list              : list of dictionaries consisting of character details;\n",
    "                            incase no results were found, return empty list\n",
    "    '''\n",
    "    RETRIEVE_COLLECTION_STATS = \"\"\" SELECT * FROM character_collections; \"\"\"\n",
    "    data = []\n",
    "    with connect_to_database(1) as conn:\n",
    "        try:   \n",
    "            query = RETRIEVE_COLLECTION_STATS\n",
    "            query_results = execute_and_return_results(query,conn)\n",
    "\n",
    "            if len(query_results) > 0:\n",
    "                data = query_results\n",
    "        except Exception as e:\n",
    "            #print(query)\n",
    "            print(\"Error in executing the query for get_all_character_collections : \",e)\n",
    "    return data"
   ]
  },
  {
   "cell_type": "code",
   "execution_count": 35,
   "id": "c6bfc888-9690-4d7b-86bf-82b3614877b3",
   "metadata": {},
   "outputs": [
    {
     "name": "stdout",
     "output_type": "stream",
     "text": [
      "Connected to the database.\n",
      "[{'collection_id': '20ebe320-b4e3-11ec-bfda-0242ac120003', 'collection_name': 'Cyber Beast Social Club', 'collection_logo': 'https://lh3.googleusercontent.com/B1F3Isy-5ZOirXDwvEItuQBWrApHEV_xPb0QyJqPJ6bIskEHxLzknicMJSLk65yyTNwVrAv5IwhL5slMeJ6oQrY9px0qq14FjKUmm7eiW91dnATZ_uiE7vmgag9qbPc_jm__WpNi=w2400', 'collection_banner': None, 'collection_website': None, 'collection_owner_id': 'CAICONTACT2022AR', 'collection_description': None, 'timestamp': Timestamp('2022-04-05 13:20:14.453781')}, {'collection_id': '211267fc-b4e3-11ec-bfda-0242ac120003', 'collection_name': 'ConvAI Curated', 'collection_logo': None, 'collection_banner': 'https://convai.com', 'collection_website': None, 'collection_owner_id': 'CAIPURNENDUROCKS2022AR', 'collection_description': None, 'timestamp': Timestamp('2022-04-05 13:20:14.707163')}, {'collection_id': '21436b90-b4e3-11ec-bfda-0242ac120003', 'collection_name': 'OKACTP', 'collection_logo': 'https://lh3.googleusercontent.com/6Cx-EBPWPM9cctfSqEFi7by02UST6zT7AiSOxT77YEE4PtruBXuaM7seGHHlpbGD6PcRRxZw3Bxfl5z4BVLa4ldIMcaultfhWwQQiwWvJNRm62S77YrT_mLs6D5vrUhZxfVlhGsU=w2400', 'collection_banner': None, 'collection_website': None, 'collection_owner_id': 'CAIOKACTP2022AR', 'collection_description': None, 'timestamp': Timestamp('2022-04-05 13:20:15.028340')}, {'collection_id': '217bd8cc-b4e3-11ec-bfda-0242ac120003', 'collection_name': 'Bluechip NFTs', 'collection_logo': 'https://lh3.googleusercontent.com/kpgR5jKPZRHq_G7JwQOVoHg7F-Z9KTcbyTtxfRQmv85xl3R51jaSFzPiV0S6YLuR_Xh9C350TzqZQP0yHTORzG-ncqiEizRldPm7NxtnBdOEFoRt8-0diIAEmDeF4a7qQQCp-tIJ=w2400', 'collection_banner': None, 'collection_website': None, 'collection_owner_id': 'CAIBLUECHIPNFTS2022AR', 'collection_description': None, 'timestamp': Timestamp('2022-04-05 13:20:15.398178')}, {'collection_id': '81f3af3a-b507-11ec-bb7a-0242ac120003', 'collection_name': 'Webaverse', 'collection_logo': None, 'collection_banner': None, 'collection_website': None, 'collection_owner_id': 'CAICONVAI.DEV12022AR', 'collection_description': None, 'timestamp': Timestamp('2022-04-05 17:40:39.126088')}, {'collection_id': '7e12f4c8-b50e-11ec-8eea-0242ac120003', 'collection_name': 'Small Talk', 'collection_logo': None, 'collection_banner': None, 'collection_website': None, 'collection_owner_id': None, 'collection_description': None, 'timestamp': Timestamp('2022-04-05 18:30:39.097366')}]\n"
     ]
    }
   ],
   "source": [
    "print(get_all_character_collections())"
   ]
  },
  {
   "cell_type": "code",
   "execution_count": 36,
   "id": "e97928cd-93a4-45fc-8f87-b1768846293e",
   "metadata": {},
   "outputs": [],
   "source": [
    "def get_username(user_id : str) -> str:\n",
    "    '''\n",
    "    Function to retrieve the username for a user id from the database\n",
    "    Arguments:\n",
    "        user_id   : user_id whose username needs to be retrieved\n",
    "    Returns :\n",
    "        str       : the username for the provided user_id;\n",
    "                    incase no results were found, return \"-1\"\n",
    "    '''\n",
    "    username = \"-1\"\n",
    "    RETRIEVE_USERNAME = \"\"\" SELECT username FROM user_details WHERE user_id='{}' ;\"\"\"\n",
    "    with connect_to_database(1) as conn:\n",
    "        try:   \n",
    "            query = RETRIEVE_USERNAME.format(user_id)\n",
    "            query_results = execute_and_return_results(query,conn)\n",
    "\n",
    "            if len(query_results) > 0:\n",
    "                username = query_results[0][\"username\"]\n",
    "        except Exception as e:\n",
    "            #print(query)\n",
    "            print(\"Error in executing the query for get_username : \",e)\n",
    "    return username"
   ]
  },
  {
   "cell_type": "code",
   "execution_count": 38,
   "id": "e823af3e-b697-4300-892a-564f924db855",
   "metadata": {},
   "outputs": [
    {
     "name": "stdout",
     "output_type": "stream",
     "text": [
      "Connected to the database.\n",
      "deepankar_testing\n"
     ]
    }
   ],
   "source": [
    "print(get_username('Deepankar_testing'))"
   ]
  },
  {
   "cell_type": "code",
   "execution_count": 39,
   "id": "994022cb-b681-42b6-a1f2-729f9b20e11c",
   "metadata": {},
   "outputs": [
    {
     "name": "stdout",
     "output_type": "stream",
     "text": [
      "Connected to the database.\n",
      "-1\n"
     ]
    }
   ],
   "source": [
    "print(get_username('Deepankar_testing_wrong'))"
   ]
  },
  {
   "cell_type": "code",
   "execution_count": 45,
   "id": "5d25ae8e-a791-40b2-8f22-86513e7de206",
   "metadata": {},
   "outputs": [],
   "source": [
    "def get_user_count() -> int:\n",
    "    '''\n",
    "    Function to retrieve the total number of registered user in the database\n",
    "    Arguments : None\n",
    "    Returns   :\n",
    "        int       : total number of registered users\n",
    "    '''\n",
    "    usercount = -1\n",
    "    RETRIEVE_USER_COUNT = \"\"\" SELECT COUNT(user_id) AS usercount FROM user_details  ;\"\"\"\n",
    "    with connect_to_database(1) as conn:\n",
    "        try:   \n",
    "            query = RETRIEVE_USER_COUNT\n",
    "            query_results = execute_and_return_results(query,conn)\n",
    "\n",
    "            if len(query_results) > 0:\n",
    "                usercount = int(query_results[0][\"usercount\"])\n",
    "        except Exception as e:\n",
    "            #print(query)\n",
    "            print(\"Error in executing the query for get_user_count : \",e)\n",
    "    return usercount"
   ]
  },
  {
   "cell_type": "code",
   "execution_count": 46,
   "id": "4923a7cd-dd28-4dd8-b6ef-cd8e95a5f8ae",
   "metadata": {},
   "outputs": [
    {
     "name": "stdout",
     "output_type": "stream",
     "text": [
      "Connected to the database.\n",
      "54\n"
     ]
    }
   ],
   "source": [
    "print(get_user_count())"
   ]
  },
  {
   "cell_type": "code",
   "execution_count": 53,
   "id": "af4e1f91-f9d5-474c-825b-4b694a7e4676",
   "metadata": {},
   "outputs": [],
   "source": [
    "def insert_new_character(\n",
    "    character_name : str,\n",
    "    user_id : str,\n",
    "    model_type : str,\n",
    "    state_names : list,\n",
    "    state_links : list,\n",
    "    listing : str,\n",
    "    voice_type : str,\n",
    "    voice_pitch : float,\n",
    "    blockchain : str,\n",
    "    contract_address : str,\n",
    "    mint_address : str,\n",
    "    owner_address : str,\n",
    "    collection_name : str = 'convai_default_collection'\n",
    ") -> str:\n",
    "    '''\n",
    "    Function to insert a new character into the database\n",
    "    Arguments:\n",
    "        character_name  : the name of the character\n",
    "        user_id         : the user id of the owner\n",
    "        model_type      : whether 2D or 3D\n",
    "        collection_name : name of the collection, by default it will be a part of 'convai_default_collection'\n",
    "        state_names     : available states for the character \n",
    "        state_links     : links to the available state\n",
    "        listing         : public or private\n",
    "        voice_type      : type of voice for the character\n",
    "        voice_pitch     : pitch value for the character\n",
    "        blockchain      : <will ask Himadri da to fill in>\n",
    "        contract_address: <will ask Himadri da to fill in>\n",
    "        mint_address    : <will ask Himadri da to fill in>\n",
    "        owner_address   : <will ask Himadri da to fill in>\n",
    "    Returns :\n",
    "        str       : the character id for the new character;\n",
    "                    incase no results were found, return \"-1\"\n",
    "    '''\n",
    "\n",
    "    char_id = \"-1\"\n",
    "    state_names = \"{\" + \",\".join(state_names) + \"}\"\n",
    "    state_links = \"{\" + \",\".join(state_links) + \"}\"\n",
    "\n",
    "    INSERT_CHARACTER_INTO_ALLCHARACTERS = \"\"\" INSERT INTO all_characters \n",
    "                                              (character_name, collection_name, user_id, model_type, state_names, state_links, listing, voice_type, voice_pitch, blockchain, contract_address, mint_address, owner_address) \n",
    "                                              VALUES\n",
    "                                              ('{}','{}','{}','{}','{}','{}','{}','{}','{}','{}','{}','{}','{}'); \"\"\"\n",
    "    RETRIEVE_CHARACTERID_FROM_ALLCHARACTERS = \"\"\"SELECT character_id FROM all_characters \n",
    "                                                 WHERE character_name = '{}' AND user_id = '{}' AND collection_name = '{}' \n",
    "                                                 ORDER BY timestamp DESC; \"\"\"\n",
    "    \n",
    "\n",
    "    with connect_to_database(1) as conn:\n",
    "        try:   \n",
    "            query01 = INSERT_CHARACTER_INTO_ALLCHARACTERS.format(character_name, collection_name, user_id, model_type, state_names, state_links, listing, voice_type, voice_pitch, blockchain, contract_address, mint_address, owner_address)\n",
    "            cursor_obj = conn.cursor()\n",
    "            cursor_obj.execute(query01)\n",
    "            cursor_obj.close()\n",
    "\n",
    "            query02 = RETRIEVE_CHARACTERID_FROM_ALLCHARACTERS.format(character_name, user_id, collection_name)\n",
    "            query_results = execute_and_return_results(query02,conn)\n",
    "\n",
    "            if len(query_results) > 0:\n",
    "                char_id = query_results[0][\"character_id\"]\n",
    "        except Exception as e:\n",
    "            #print(query)\n",
    "            print(\"Error in executing the query for insert_new_character : \",e)\n",
    "        \n",
    "    return char_id"
   ]
  },
  {
   "cell_type": "code",
   "execution_count": 55,
   "id": "bcfe033d-95f9-4980-be4a-45641e953fa6",
   "metadata": {},
   "outputs": [
    {
     "name": "stdout",
     "output_type": "stream",
     "text": [
      "Connected to the database.\n",
      "eb0d9ca2-bcae-11ec-9b34-0242ac120003\n"
     ]
    }
   ],
   "source": [
    "print(insert_new_character(\n",
    "    character_name = 'Tony Stark duplicate',\n",
    "    user_id = 'Deepankar_testing',\n",
    "    model_type = '3D',\n",
    "    state_names = ['state01','state02','state03'],\n",
    "    state_links = ['link01','link02','link03'],\n",
    "    listing = 'Public',\n",
    "    voice_type = 'MALE',\n",
    "    voice_pitch = 0.0,\n",
    "    blockchain = 'NULL',\n",
    "    contract_address = 'NULL',\n",
    "    mint_address = 'NULL',\n",
    "    owner_address = 'NULL',\n",
    "))"
   ]
  },
  {
   "cell_type": "code",
   "execution_count": null,
   "id": "dad9a1c5-41c0-403c-8e98-a415563bfabc",
   "metadata": {},
   "outputs": [],
   "source": []
  }
 ],
 "metadata": {
  "kernelspec": {
   "display_name": "Python 3 (ipykernel)",
   "language": "python",
   "name": "python3"
  },
  "language_info": {
   "codemirror_mode": {
    "name": "ipython",
    "version": 3
   },
   "file_extension": ".py",
   "mimetype": "text/x-python",
   "name": "python",
   "nbconvert_exporter": "python",
   "pygments_lexer": "ipython3",
   "version": "3.8.10"
  }
 },
 "nbformat": 4,
 "nbformat_minor": 5
}
